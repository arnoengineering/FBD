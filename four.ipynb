{
 "cells": [
  {
   "cell_type": "code",
   "execution_count": 1,
   "outputs": [],
   "source": [
    "import numpy as np\n",
    "def fft(x,dt=1,t0=None):\n",
    "    def fft_split(x0):\n",
    "        print('fft on')\n",
    "        print(x0)\n",
    "        n_p = x0.size\n",
    "        even = x0[::2]\n",
    "        odd = x0[1::2]\n",
    "        if n_p==2:\n",
    "            return even[0] - odd[0]\n",
    "        else:\n",
    "            even_x = fft_split(even)\n",
    "            odd_x = fft_split(odd)\n",
    "            jx = np.zeros(n_p)\n",
    "            for i in range(n_p):\n",
    "                jx[i]=even_x-odd_x*w_mat[i]\n",
    "            return jx\n",
    "\n",
    "    n=x.size\n",
    "    if t0 is None:\n",
    "        t0 = dt*n\n",
    "    else:\n",
    "        dt = t0/n\n",
    "    f0=1/dt\n",
    "    w0=2*np.pi*f0\n",
    "    n_l=np.arange(n)\n",
    "    w_mat = np.exp(w0*n_l*1j)\n",
    "    return fft_split(x)\n"
   ],
   "metadata": {
    "collapsed": false,
    "pycharm": {
     "name": "#%%\n"
    }
   }
  },
  {
   "cell_type": "code",
   "execution_count": 2,
   "outputs": [
    {
     "data": {
      "text/plain": "array([-1.50656316e-14+0.00000000e+00j,  8.51748541e-15-9.03899375e-15j,\n       -8.30840808e-15+3.91764473e-15j,  1.24895401e-14-6.81229818e-15j,\n        1.15518652e-14+1.11130091e-14j, -3.34353335e-14+7.88860905e-31j,\n        1.15518652e-14-1.11130091e-14j,  1.24895401e-14+6.81229818e-15j,\n       -8.30840808e-15-3.91764473e-15j,  8.51748541e-15+9.03899375e-15j])"
     },
     "execution_count": 2,
     "metadata": {},
     "output_type": "execute_result"
    }
   ],
   "source": [
    "t = np.arange(10)\n",
    "y = np.sin(2*np.pi*t)+np.sin(5*np.pi*t)\n",
    "np.fft.fft(y)"
   ],
   "metadata": {
    "collapsed": false,
    "pycharm": {
     "name": "#%%\n"
    }
   }
  },
  {
   "cell_type": "code",
   "execution_count": 3,
   "outputs": [
    {
     "ename": "SyntaxError",
     "evalue": "unexpected EOF while parsing (670856823.py, line 1)",
     "output_type": "error",
     "traceback": [
      "\u001B[1;36m  Input \u001B[1;32mIn [3]\u001B[1;36m\u001B[0m\n\u001B[1;33m    fft(y\u001B[0m\n\u001B[1;37m         ^\u001B[0m\n\u001B[1;31mSyntaxError\u001B[0m\u001B[1;31m:\u001B[0m unexpected EOF while parsing\n"
     ]
    }
   ],
   "source": [
    "fft(y"
   ],
   "metadata": {
    "collapsed": false,
    "pycharm": {
     "name": "#%%\n"
    }
   }
  },
  {
   "cell_type": "code",
   "execution_count": null,
   "outputs": [],
   "source": [],
   "metadata": {
    "collapsed": false,
    "pycharm": {
     "name": "#%%\n"
    }
   }
  }
 ],
 "metadata": {
  "kernelspec": {
   "display_name": "Python 3",
   "language": "python",
   "name": "python3"
  },
  "language_info": {
   "codemirror_mode": {
    "name": "ipython",
    "version": 2
   },
   "file_extension": ".py",
   "mimetype": "text/x-python",
   "name": "python",
   "nbconvert_exporter": "python",
   "pygments_lexer": "ipython2",
   "version": "2.7.6"
  }
 },
 "nbformat": 4,
 "nbformat_minor": 0
}