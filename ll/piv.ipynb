{
 "cells": [
  {
   "cell_type": "code",
   "execution_count": 1,
   "metadata": {
    "collapsed": true,
    "pycharm": {
     "name": "#%%\n"
    }
   },
   "outputs": [],
   "source": [
    "\n",
    "from PyQt5.QtCore import QDate\n",
    "\n",
    "import pandas as pd\n",
    "import seaborn as sns\n",
    "titanic = sns.load_dataset('titanic')\n"
   ]
  },
  {
   "cell_type": "code",
   "execution_count": 2,
   "outputs": [],
   "source": [
    "def load_ex(file):\n",
    "    xl = pd.ExcelFile(file)\n",
    "    data = {}\n",
    "    docs = xl.sheet_names\n",
    "    for sheet in docs:\n",
    "        data[sheet] = pd.read_excel(xl, sheet_name=sheet)\n",
    "    return data"
   ],
   "metadata": {
    "collapsed": false,
    "pycharm": {
     "name": "#%%\n"
    }
   }
  },
  {
   "cell_type": "code",
   "execution_count": 3,
   "outputs": [],
   "source": [
    "\n",
    "def l2(x):\n",
    "    if isinstance(x,pd.DatetimeTZDtype):\n",
    "        return QDate(x.year, x.month, x.day)\n",
    "    elif isinstance(x,int):\n",
    "        return QDate(1900,1,1).addDays(x)\n",
    "    else:\n",
    "        return QDate.fromString(x, day_f)\n",
    "\n"
   ],
   "metadata": {
    "collapsed": false,
    "pycharm": {
     "name": "#%%\n"
    }
   }
  },
  {
   "cell_type": "code",
   "execution_count": 4,
   "outputs": [],
   "source": [
    "import numpy as np"
   ],
   "metadata": {
    "collapsed": false,
    "pycharm": {
     "name": "#%%\n"
    }
   }
  },
  {
   "cell_type": "code",
   "execution_count": 5,
   "outputs": [
    {
     "data": {
      "text/plain": "                              Days   Doc Shift\n0  PyQt5.QtCore.QDate(2022, 7, 24)  doc1   Off\n1  PyQt5.QtCore.QDate(2022, 7, 24)  doc3   Off\n2  PyQt5.QtCore.QDate(2022, 7, 24)  doc2  Call\n3  PyQt5.QtCore.QDate(2022, 7, 25)  doc2   Off\n4  PyQt5.QtCore.QDate(2022, 7, 25)  doc3  Call",
      "text/html": "<div>\n<style scoped>\n    .dataframe tbody tr th:only-of-type {\n        vertical-align: middle;\n    }\n\n    .dataframe tbody tr th {\n        vertical-align: top;\n    }\n\n    .dataframe thead th {\n        text-align: right;\n    }\n</style>\n<table border=\"1\" class=\"dataframe\">\n  <thead>\n    <tr style=\"text-align: right;\">\n      <th></th>\n      <th>Days</th>\n      <th>Doc</th>\n      <th>Shift</th>\n    </tr>\n  </thead>\n  <tbody>\n    <tr>\n      <th>0</th>\n      <td>PyQt5.QtCore.QDate(2022, 7, 24)</td>\n      <td>doc1</td>\n      <td>Off</td>\n    </tr>\n    <tr>\n      <th>1</th>\n      <td>PyQt5.QtCore.QDate(2022, 7, 24)</td>\n      <td>doc3</td>\n      <td>Off</td>\n    </tr>\n    <tr>\n      <th>2</th>\n      <td>PyQt5.QtCore.QDate(2022, 7, 24)</td>\n      <td>doc2</td>\n      <td>Call</td>\n    </tr>\n    <tr>\n      <th>3</th>\n      <td>PyQt5.QtCore.QDate(2022, 7, 25)</td>\n      <td>doc2</td>\n      <td>Off</td>\n    </tr>\n    <tr>\n      <th>4</th>\n      <td>PyQt5.QtCore.QDate(2022, 7, 25)</td>\n      <td>doc3</td>\n      <td>Call</td>\n    </tr>\n  </tbody>\n</table>\n</div>"
     },
     "execution_count": 5,
     "metadata": {},
     "output_type": "execute_result"
    }
   ],
   "source": [
    "\n",
    "\n",
    "data =load_ex('DocSchedule.xlsx')\n",
    "day_f = list(data['Format']['Format'])[0]\n",
    "current_schedule = data['Days']\n",
    "current_schedule['Days'] = current_schedule['Days'].apply(l2)\n",
    "\n",
    "current_schedule.fillna(\"\", inplace=True)  # todo days\n",
    "\n",
    "current_schedule.head()"
   ],
   "metadata": {
    "collapsed": false,
    "pycharm": {
     "name": "#%%\n"
    }
   }
  },
  {
   "cell_type": "code",
   "execution_count": 6,
   "outputs": [
    {
     "data": {
      "text/plain": "Shift                            Call     Off  Walkin\nDays                                                 \nPyQt5.QtCore.QDate(2022, 7, 24)     1  [1, 1]       0\nPyQt5.QtCore.QDate(2022, 7, 25)     1       1       1\nPyQt5.QtCore.QDate(2022, 7, 26)     1       1       1\nPyQt5.QtCore.QDate(2022, 7, 27)     1       1       1\nPyQt5.QtCore.QDate(2022, 7, 28)     1       1       1\nPyQt5.QtCore.QDate(2022, 7, 29)     1       1       1\nPyQt5.QtCore.QDate(2022, 7, 30)     1  [1, 1]       0\nPyQt5.QtCore.QDate(2022, 7, 31)     1       1       1\nPyQt5.QtCore.QDate(2022, 8, 1)      1       1       1\nPyQt5.QtCore.QDate(2022, 8, 2)      1       1       1\nPyQt5.QtCore.QDate(2022, 8, 3)      1       1       1\nPyQt5.QtCore.QDate(2022, 8, 4)      1       1       1\nPyQt5.QtCore.QDate(2022, 8, 5)      1       1       1\nPyQt5.QtCore.QDate(2022, 8, 6)      1       1       1\nPyQt5.QtCore.QDate(2022, 8, 7)      1  [1, 1]       0\nPyQt5.QtCore.QDate(2022, 8, 8)      1       1       1\nPyQt5.QtCore.QDate(2022, 8, 9)      1       1       1\nPyQt5.QtCore.QDate(2022, 8, 10)     1       1       1\nPyQt5.QtCore.QDate(2022, 8, 11)     1       1       1\nPyQt5.QtCore.QDate(2022, 8, 12)     1       1       1\nPyQt5.QtCore.QDate(2022, 8, 13)     1       1       1\nPyQt5.QtCore.QDate(2022, 8, 14)     1  [1, 1]       0\nPyQt5.QtCore.QDate(2022, 8, 15)     1       1       1\nPyQt5.QtCore.QDate(2022, 8, 16)     1       1       1\nPyQt5.QtCore.QDate(2022, 8, 17)     1       1       1\nPyQt5.QtCore.QDate(2022, 8, 18)     1       1       1\nPyQt5.QtCore.QDate(2022, 8, 19)     1       1       1\nPyQt5.QtCore.QDate(2022, 8, 20)     1  [1, 1]       0\nPyQt5.QtCore.QDate(2022, 8, 21)     1       1       1\nPyQt5.QtCore.QDate(2022, 8, 22)     1       1       1",
      "text/html": "<div>\n<style scoped>\n    .dataframe tbody tr th:only-of-type {\n        vertical-align: middle;\n    }\n\n    .dataframe tbody tr th {\n        vertical-align: top;\n    }\n\n    .dataframe thead th {\n        text-align: right;\n    }\n</style>\n<table border=\"1\" class=\"dataframe\">\n  <thead>\n    <tr style=\"text-align: right;\">\n      <th>Shift</th>\n      <th>Call</th>\n      <th>Off</th>\n      <th>Walkin</th>\n    </tr>\n    <tr>\n      <th>Days</th>\n      <th></th>\n      <th></th>\n      <th></th>\n    </tr>\n  </thead>\n  <tbody>\n    <tr>\n      <th>PyQt5.QtCore.QDate(2022, 7, 24)</th>\n      <td>1</td>\n      <td>[1, 1]</td>\n      <td>0</td>\n    </tr>\n    <tr>\n      <th>PyQt5.QtCore.QDate(2022, 7, 25)</th>\n      <td>1</td>\n      <td>1</td>\n      <td>1</td>\n    </tr>\n    <tr>\n      <th>PyQt5.QtCore.QDate(2022, 7, 26)</th>\n      <td>1</td>\n      <td>1</td>\n      <td>1</td>\n    </tr>\n    <tr>\n      <th>PyQt5.QtCore.QDate(2022, 7, 27)</th>\n      <td>1</td>\n      <td>1</td>\n      <td>1</td>\n    </tr>\n    <tr>\n      <th>PyQt5.QtCore.QDate(2022, 7, 28)</th>\n      <td>1</td>\n      <td>1</td>\n      <td>1</td>\n    </tr>\n    <tr>\n      <th>PyQt5.QtCore.QDate(2022, 7, 29)</th>\n      <td>1</td>\n      <td>1</td>\n      <td>1</td>\n    </tr>\n    <tr>\n      <th>PyQt5.QtCore.QDate(2022, 7, 30)</th>\n      <td>1</td>\n      <td>[1, 1]</td>\n      <td>0</td>\n    </tr>\n    <tr>\n      <th>PyQt5.QtCore.QDate(2022, 7, 31)</th>\n      <td>1</td>\n      <td>1</td>\n      <td>1</td>\n    </tr>\n    <tr>\n      <th>PyQt5.QtCore.QDate(2022, 8, 1)</th>\n      <td>1</td>\n      <td>1</td>\n      <td>1</td>\n    </tr>\n    <tr>\n      <th>PyQt5.QtCore.QDate(2022, 8, 2)</th>\n      <td>1</td>\n      <td>1</td>\n      <td>1</td>\n    </tr>\n    <tr>\n      <th>PyQt5.QtCore.QDate(2022, 8, 3)</th>\n      <td>1</td>\n      <td>1</td>\n      <td>1</td>\n    </tr>\n    <tr>\n      <th>PyQt5.QtCore.QDate(2022, 8, 4)</th>\n      <td>1</td>\n      <td>1</td>\n      <td>1</td>\n    </tr>\n    <tr>\n      <th>PyQt5.QtCore.QDate(2022, 8, 5)</th>\n      <td>1</td>\n      <td>1</td>\n      <td>1</td>\n    </tr>\n    <tr>\n      <th>PyQt5.QtCore.QDate(2022, 8, 6)</th>\n      <td>1</td>\n      <td>1</td>\n      <td>1</td>\n    </tr>\n    <tr>\n      <th>PyQt5.QtCore.QDate(2022, 8, 7)</th>\n      <td>1</td>\n      <td>[1, 1]</td>\n      <td>0</td>\n    </tr>\n    <tr>\n      <th>PyQt5.QtCore.QDate(2022, 8, 8)</th>\n      <td>1</td>\n      <td>1</td>\n      <td>1</td>\n    </tr>\n    <tr>\n      <th>PyQt5.QtCore.QDate(2022, 8, 9)</th>\n      <td>1</td>\n      <td>1</td>\n      <td>1</td>\n    </tr>\n    <tr>\n      <th>PyQt5.QtCore.QDate(2022, 8, 10)</th>\n      <td>1</td>\n      <td>1</td>\n      <td>1</td>\n    </tr>\n    <tr>\n      <th>PyQt5.QtCore.QDate(2022, 8, 11)</th>\n      <td>1</td>\n      <td>1</td>\n      <td>1</td>\n    </tr>\n    <tr>\n      <th>PyQt5.QtCore.QDate(2022, 8, 12)</th>\n      <td>1</td>\n      <td>1</td>\n      <td>1</td>\n    </tr>\n    <tr>\n      <th>PyQt5.QtCore.QDate(2022, 8, 13)</th>\n      <td>1</td>\n      <td>1</td>\n      <td>1</td>\n    </tr>\n    <tr>\n      <th>PyQt5.QtCore.QDate(2022, 8, 14)</th>\n      <td>1</td>\n      <td>[1, 1]</td>\n      <td>0</td>\n    </tr>\n    <tr>\n      <th>PyQt5.QtCore.QDate(2022, 8, 15)</th>\n      <td>1</td>\n      <td>1</td>\n      <td>1</td>\n    </tr>\n    <tr>\n      <th>PyQt5.QtCore.QDate(2022, 8, 16)</th>\n      <td>1</td>\n      <td>1</td>\n      <td>1</td>\n    </tr>\n    <tr>\n      <th>PyQt5.QtCore.QDate(2022, 8, 17)</th>\n      <td>1</td>\n      <td>1</td>\n      <td>1</td>\n    </tr>\n    <tr>\n      <th>PyQt5.QtCore.QDate(2022, 8, 18)</th>\n      <td>1</td>\n      <td>1</td>\n      <td>1</td>\n    </tr>\n    <tr>\n      <th>PyQt5.QtCore.QDate(2022, 8, 19)</th>\n      <td>1</td>\n      <td>1</td>\n      <td>1</td>\n    </tr>\n    <tr>\n      <th>PyQt5.QtCore.QDate(2022, 8, 20)</th>\n      <td>1</td>\n      <td>[1, 1]</td>\n      <td>0</td>\n    </tr>\n    <tr>\n      <th>PyQt5.QtCore.QDate(2022, 8, 21)</th>\n      <td>1</td>\n      <td>1</td>\n      <td>1</td>\n    </tr>\n    <tr>\n      <th>PyQt5.QtCore.QDate(2022, 8, 22)</th>\n      <td>1</td>\n      <td>1</td>\n      <td>1</td>\n    </tr>\n  </tbody>\n</table>\n</div>"
     },
     "execution_count": 6,
     "metadata": {},
     "output_type": "execute_result"
    }
   ],
   "source": [
    "pd.pivot_table(current_schedule,index=['Days'],columns=['Shift'], values='Doc', aggfunc=pd.value_counts,fill_value=0)"
   ],
   "metadata": {
    "collapsed": false,
    "pycharm": {
     "name": "#%%\n"
    }
   }
  },
  {
   "cell_type": "code",
   "execution_count": 7,
   "outputs": [
    {
     "data": {
      "text/plain": "Shift  Call  Off  Walkin\nDoc                     \ndoc1      4   12      14\ndoc2     11   13       6\ndoc3     15   10       5",
      "text/html": "<div>\n<style scoped>\n    .dataframe tbody tr th:only-of-type {\n        vertical-align: middle;\n    }\n\n    .dataframe tbody tr th {\n        vertical-align: top;\n    }\n\n    .dataframe thead th {\n        text-align: right;\n    }\n</style>\n<table border=\"1\" class=\"dataframe\">\n  <thead>\n    <tr style=\"text-align: right;\">\n      <th>Shift</th>\n      <th>Call</th>\n      <th>Off</th>\n      <th>Walkin</th>\n    </tr>\n    <tr>\n      <th>Doc</th>\n      <th></th>\n      <th></th>\n      <th></th>\n    </tr>\n  </thead>\n  <tbody>\n    <tr>\n      <th>doc1</th>\n      <td>4</td>\n      <td>12</td>\n      <td>14</td>\n    </tr>\n    <tr>\n      <th>doc2</th>\n      <td>11</td>\n      <td>13</td>\n      <td>6</td>\n    </tr>\n    <tr>\n      <th>doc3</th>\n      <td>15</td>\n      <td>10</td>\n      <td>5</td>\n    </tr>\n  </tbody>\n</table>\n</div>"
     },
     "execution_count": 7,
     "metadata": {},
     "output_type": "execute_result"
    }
   ],
   "source": [
    "pd.pivot_table(current_schedule,index=['Doc'],columns=['Shift'], values='Days', aggfunc='count',fill_value=0)  # check"
   ],
   "metadata": {
    "collapsed": false,
    "pycharm": {
     "name": "#%%\n"
    }
   }
  },
  {
   "cell_type": "code",
   "execution_count": 8,
   "outputs": [],
   "source": [
    "# todo percent total\n",
    "# todo user data\n",
    "def here(x,ani):\n",
    "    print(f'x: {x}: type: {type(x)}')\n",
    "    return np.sum([xi in ani for xi in x])"
   ],
   "metadata": {
    "collapsed": false,
    "pycharm": {
     "name": "#%%\n"
    }
   }
  },
  {
   "cell_type": "code",
   "execution_count": 9,
   "outputs": [
    {
     "name": "stdout",
     "output_type": "stream",
     "text": [
      "x: ['d', 'a', 'd', 'b']: type: <class 'list'>\n"
     ]
    },
    {
     "data": {
      "text/plain": "3"
     },
     "execution_count": 9,
     "metadata": {},
     "output_type": "execute_result"
    }
   ],
   "source": [
    "here(['d', 'a','d','b'], ['d', 'b'])"
   ],
   "metadata": {
    "collapsed": false,
    "pycharm": {
     "name": "#%%\n"
    }
   }
  },
  {
   "cell_type": "code",
   "execution_count": 10,
   "outputs": [
    {
     "name": "stdout",
     "output_type": "stream",
     "text": [
      "x: 2    doc2\n",
      "Name: Doc, dtype: object: type: <class 'pandas.core.series.Series'>\n",
      "x: 0    doc1\n",
      "1    doc3\n",
      "Name: Doc, dtype: object: type: <class 'pandas.core.series.Series'>\n",
      "x: 4    doc3\n",
      "Name: Doc, dtype: object: type: <class 'pandas.core.series.Series'>\n",
      "x: 3    doc2\n",
      "Name: Doc, dtype: object: type: <class 'pandas.core.series.Series'>\n",
      "x: 5    doc1\n",
      "Name: Doc, dtype: object: type: <class 'pandas.core.series.Series'>\n",
      "x: 7    doc2\n",
      "Name: Doc, dtype: object: type: <class 'pandas.core.series.Series'>\n",
      "x: 6    doc1\n",
      "Name: Doc, dtype: object: type: <class 'pandas.core.series.Series'>\n",
      "x: 8    doc3\n",
      "Name: Doc, dtype: object: type: <class 'pandas.core.series.Series'>\n",
      "x: 10    doc3\n",
      "Name: Doc, dtype: object: type: <class 'pandas.core.series.Series'>\n",
      "x: 9    doc2\n",
      "Name: Doc, dtype: object: type: <class 'pandas.core.series.Series'>\n",
      "x: 11    doc1\n",
      "Name: Doc, dtype: object: type: <class 'pandas.core.series.Series'>\n",
      "x: 13    doc1\n",
      "Name: Doc, dtype: object: type: <class 'pandas.core.series.Series'>\n",
      "x: 12    doc3\n",
      "Name: Doc, dtype: object: type: <class 'pandas.core.series.Series'>\n",
      "x: 14    doc2\n",
      "Name: Doc, dtype: object: type: <class 'pandas.core.series.Series'>\n",
      "x: 16    doc3\n",
      "Name: Doc, dtype: object: type: <class 'pandas.core.series.Series'>\n",
      "x: 15    doc2\n",
      "Name: Doc, dtype: object: type: <class 'pandas.core.series.Series'>\n",
      "x: 17    doc1\n",
      "Name: Doc, dtype: object: type: <class 'pandas.core.series.Series'>\n",
      "x: 20    doc2\n",
      "Name: Doc, dtype: object: type: <class 'pandas.core.series.Series'>\n",
      "x: 18    doc1\n",
      "19    doc3\n",
      "Name: Doc, dtype: object: type: <class 'pandas.core.series.Series'>\n",
      "x: 22    doc3\n",
      "Name: Doc, dtype: object: type: <class 'pandas.core.series.Series'>\n",
      "x: 21    doc2\n",
      "Name: Doc, dtype: object: type: <class 'pandas.core.series.Series'>\n",
      "x: 23    doc1\n",
      "Name: Doc, dtype: object: type: <class 'pandas.core.series.Series'>\n",
      "x: 25    doc1\n",
      "Name: Doc, dtype: object: type: <class 'pandas.core.series.Series'>\n",
      "x: 24    doc3\n",
      "Name: Doc, dtype: object: type: <class 'pandas.core.series.Series'>\n",
      "x: 26    doc2\n",
      "Name: Doc, dtype: object: type: <class 'pandas.core.series.Series'>\n",
      "x: 28    doc3\n",
      "Name: Doc, dtype: object: type: <class 'pandas.core.series.Series'>\n",
      "x: 27    doc2\n",
      "Name: Doc, dtype: object: type: <class 'pandas.core.series.Series'>\n",
      "x: 29    doc1\n",
      "Name: Doc, dtype: object: type: <class 'pandas.core.series.Series'>\n",
      "x: 31    doc2\n",
      "Name: Doc, dtype: object: type: <class 'pandas.core.series.Series'>\n",
      "x: 30    doc1\n",
      "Name: Doc, dtype: object: type: <class 'pandas.core.series.Series'>\n",
      "x: 32    doc3\n",
      "Name: Doc, dtype: object: type: <class 'pandas.core.series.Series'>\n",
      "x: 34    doc3\n",
      "Name: Doc, dtype: object: type: <class 'pandas.core.series.Series'>\n",
      "x: 33    doc2\n",
      "Name: Doc, dtype: object: type: <class 'pandas.core.series.Series'>\n",
      "x: 35    doc1\n",
      "Name: Doc, dtype: object: type: <class 'pandas.core.series.Series'>\n",
      "x: 37    doc2\n",
      "Name: Doc, dtype: object: type: <class 'pandas.core.series.Series'>\n",
      "x: 36    doc1\n",
      "Name: Doc, dtype: object: type: <class 'pandas.core.series.Series'>\n",
      "x: 38    doc3\n",
      "Name: Doc, dtype: object: type: <class 'pandas.core.series.Series'>\n",
      "x: 40    doc3\n",
      "Name: Doc, dtype: object: type: <class 'pandas.core.series.Series'>\n",
      "x: 39    doc2\n",
      "Name: Doc, dtype: object: type: <class 'pandas.core.series.Series'>\n",
      "x: 41    doc1\n",
      "Name: Doc, dtype: object: type: <class 'pandas.core.series.Series'>\n",
      "x: 44    doc2\n",
      "Name: Doc, dtype: object: type: <class 'pandas.core.series.Series'>\n",
      "x: 42    doc1\n",
      "43    doc3\n",
      "Name: Doc, dtype: object: type: <class 'pandas.core.series.Series'>\n",
      "x: 46    doc3\n",
      "Name: Doc, dtype: object: type: <class 'pandas.core.series.Series'>\n",
      "x: 45    doc2\n",
      "Name: Doc, dtype: object: type: <class 'pandas.core.series.Series'>\n",
      "x: 47    doc1\n",
      "Name: Doc, dtype: object: type: <class 'pandas.core.series.Series'>\n",
      "x: 49    doc2\n",
      "Name: Doc, dtype: object: type: <class 'pandas.core.series.Series'>\n",
      "x: 48    doc1\n",
      "Name: Doc, dtype: object: type: <class 'pandas.core.series.Series'>\n",
      "x: 50    doc3\n",
      "Name: Doc, dtype: object: type: <class 'pandas.core.series.Series'>\n",
      "x: 52    doc3\n",
      "Name: Doc, dtype: object: type: <class 'pandas.core.series.Series'>\n",
      "x: 51    doc2\n",
      "Name: Doc, dtype: object: type: <class 'pandas.core.series.Series'>\n",
      "x: 53    doc1\n",
      "Name: Doc, dtype: object: type: <class 'pandas.core.series.Series'>\n",
      "x: 55    doc2\n",
      "Name: Doc, dtype: object: type: <class 'pandas.core.series.Series'>\n",
      "x: 54    doc1\n",
      "Name: Doc, dtype: object: type: <class 'pandas.core.series.Series'>\n",
      "x: 56    doc3\n",
      "Name: Doc, dtype: object: type: <class 'pandas.core.series.Series'>\n",
      "x: 58    doc3\n",
      "Name: Doc, dtype: object: type: <class 'pandas.core.series.Series'>\n",
      "x: 57    doc2\n",
      "Name: Doc, dtype: object: type: <class 'pandas.core.series.Series'>\n",
      "x: 59    doc1\n",
      "Name: Doc, dtype: object: type: <class 'pandas.core.series.Series'>\n",
      "x: 61    doc1\n",
      "Name: Doc, dtype: object: type: <class 'pandas.core.series.Series'>\n",
      "x: 60    doc3\n",
      "Name: Doc, dtype: object: type: <class 'pandas.core.series.Series'>\n",
      "x: 62    doc2\n",
      "Name: Doc, dtype: object: type: <class 'pandas.core.series.Series'>\n",
      "x: 65    doc3\n",
      "Name: Doc, dtype: object: type: <class 'pandas.core.series.Series'>\n",
      "x: 63    doc1\n",
      "64    doc2\n",
      "Name: Doc, dtype: object: type: <class 'pandas.core.series.Series'>\n",
      "x: 67    doc2\n",
      "Name: Doc, dtype: object: type: <class 'pandas.core.series.Series'>\n",
      "x: 66    doc3\n",
      "Name: Doc, dtype: object: type: <class 'pandas.core.series.Series'>\n",
      "x: 68    doc1\n",
      "Name: Doc, dtype: object: type: <class 'pandas.core.series.Series'>\n",
      "x: 70    doc3\n",
      "Name: Doc, dtype: object: type: <class 'pandas.core.series.Series'>\n",
      "x: 69    doc1\n",
      "Name: Doc, dtype: object: type: <class 'pandas.core.series.Series'>\n",
      "x: 71    doc2\n",
      "Name: Doc, dtype: object: type: <class 'pandas.core.series.Series'>\n",
      "x: 73    doc2\n",
      "Name: Doc, dtype: object: type: <class 'pandas.core.series.Series'>\n",
      "x: 72    doc3\n",
      "Name: Doc, dtype: object: type: <class 'pandas.core.series.Series'>\n",
      "x: 74    doc1\n",
      "Name: Doc, dtype: object: type: <class 'pandas.core.series.Series'>\n",
      "x: 76    doc3\n",
      "Name: Doc, dtype: object: type: <class 'pandas.core.series.Series'>\n",
      "x: 75    doc1\n",
      "Name: Doc, dtype: object: type: <class 'pandas.core.series.Series'>\n",
      "x: 77    doc2\n",
      "Name: Doc, dtype: object: type: <class 'pandas.core.series.Series'>\n",
      "x: 79    doc2\n",
      "Name: Doc, dtype: object: type: <class 'pandas.core.series.Series'>\n",
      "x: 78    doc3\n",
      "Name: Doc, dtype: object: type: <class 'pandas.core.series.Series'>\n",
      "x: 80    doc1\n",
      "Name: Doc, dtype: object: type: <class 'pandas.core.series.Series'>\n",
      "x: 83    doc3\n",
      "Name: Doc, dtype: object: type: <class 'pandas.core.series.Series'>\n",
      "x: 81    doc1\n",
      "82    doc2\n",
      "Name: Doc, dtype: object: type: <class 'pandas.core.series.Series'>\n",
      "x: 85    doc1\n",
      "Name: Doc, dtype: object: type: <class 'pandas.core.series.Series'>\n",
      "x: 84    doc3\n",
      "Name: Doc, dtype: object: type: <class 'pandas.core.series.Series'>\n",
      "x: 86    doc2\n",
      "Name: Doc, dtype: object: type: <class 'pandas.core.series.Series'>\n",
      "x: 88    doc3\n",
      "Name: Doc, dtype: object: type: <class 'pandas.core.series.Series'>\n",
      "x: 87    doc2\n",
      "Name: Doc, dtype: object: type: <class 'pandas.core.series.Series'>\n",
      "x: 89    doc1\n",
      "Name: Doc, dtype: object: type: <class 'pandas.core.series.Series'>\n"
     ]
    },
    {
     "data": {
      "text/plain": "Shift                            Call  Off  Walkin\nDays                                              \nPyQt5.QtCore.QDate(2022, 7, 24)     0    2       0\nPyQt5.QtCore.QDate(2022, 7, 25)     1    0       1\nPyQt5.QtCore.QDate(2022, 7, 26)     0    1       1\nPyQt5.QtCore.QDate(2022, 7, 27)     1    0       1\nPyQt5.QtCore.QDate(2022, 7, 28)     1    1       0\nPyQt5.QtCore.QDate(2022, 7, 29)     1    0       1\nPyQt5.QtCore.QDate(2022, 7, 30)     0    2       0\nPyQt5.QtCore.QDate(2022, 7, 31)     1    0       1\nPyQt5.QtCore.QDate(2022, 8, 1)      1    1       0\nPyQt5.QtCore.QDate(2022, 8, 2)      1    0       1\nPyQt5.QtCore.QDate(2022, 8, 3)      0    1       1\nPyQt5.QtCore.QDate(2022, 8, 4)      1    0       1\nPyQt5.QtCore.QDate(2022, 8, 5)      0    1       1\nPyQt5.QtCore.QDate(2022, 8, 6)      1    0       1\nPyQt5.QtCore.QDate(2022, 8, 7)      0    2       0\nPyQt5.QtCore.QDate(2022, 8, 8)      1    0       1\nPyQt5.QtCore.QDate(2022, 8, 9)      0    1       1\nPyQt5.QtCore.QDate(2022, 8, 10)     1    0       1\nPyQt5.QtCore.QDate(2022, 8, 11)     0    1       1\nPyQt5.QtCore.QDate(2022, 8, 12)     1    0       1\nPyQt5.QtCore.QDate(2022, 8, 13)     1    1       0\nPyQt5.QtCore.QDate(2022, 8, 14)     1    1       0\nPyQt5.QtCore.QDate(2022, 8, 15)     0    1       1\nPyQt5.QtCore.QDate(2022, 8, 16)     1    1       0\nPyQt5.QtCore.QDate(2022, 8, 17)     0    1       1\nPyQt5.QtCore.QDate(2022, 8, 18)     1    1       0\nPyQt5.QtCore.QDate(2022, 8, 19)     0    1       1\nPyQt5.QtCore.QDate(2022, 8, 20)     1    1       0\nPyQt5.QtCore.QDate(2022, 8, 21)     1    1       0\nPyQt5.QtCore.QDate(2022, 8, 22)     1    0       1",
      "text/html": "<div>\n<style scoped>\n    .dataframe tbody tr th:only-of-type {\n        vertical-align: middle;\n    }\n\n    .dataframe tbody tr th {\n        vertical-align: top;\n    }\n\n    .dataframe thead th {\n        text-align: right;\n    }\n</style>\n<table border=\"1\" class=\"dataframe\">\n  <thead>\n    <tr style=\"text-align: right;\">\n      <th>Shift</th>\n      <th>Call</th>\n      <th>Off</th>\n      <th>Walkin</th>\n    </tr>\n    <tr>\n      <th>Days</th>\n      <th></th>\n      <th></th>\n      <th></th>\n    </tr>\n  </thead>\n  <tbody>\n    <tr>\n      <th>PyQt5.QtCore.QDate(2022, 7, 24)</th>\n      <td>0</td>\n      <td>2</td>\n      <td>0</td>\n    </tr>\n    <tr>\n      <th>PyQt5.QtCore.QDate(2022, 7, 25)</th>\n      <td>1</td>\n      <td>0</td>\n      <td>1</td>\n    </tr>\n    <tr>\n      <th>PyQt5.QtCore.QDate(2022, 7, 26)</th>\n      <td>0</td>\n      <td>1</td>\n      <td>1</td>\n    </tr>\n    <tr>\n      <th>PyQt5.QtCore.QDate(2022, 7, 27)</th>\n      <td>1</td>\n      <td>0</td>\n      <td>1</td>\n    </tr>\n    <tr>\n      <th>PyQt5.QtCore.QDate(2022, 7, 28)</th>\n      <td>1</td>\n      <td>1</td>\n      <td>0</td>\n    </tr>\n    <tr>\n      <th>PyQt5.QtCore.QDate(2022, 7, 29)</th>\n      <td>1</td>\n      <td>0</td>\n      <td>1</td>\n    </tr>\n    <tr>\n      <th>PyQt5.QtCore.QDate(2022, 7, 30)</th>\n      <td>0</td>\n      <td>2</td>\n      <td>0</td>\n    </tr>\n    <tr>\n      <th>PyQt5.QtCore.QDate(2022, 7, 31)</th>\n      <td>1</td>\n      <td>0</td>\n      <td>1</td>\n    </tr>\n    <tr>\n      <th>PyQt5.QtCore.QDate(2022, 8, 1)</th>\n      <td>1</td>\n      <td>1</td>\n      <td>0</td>\n    </tr>\n    <tr>\n      <th>PyQt5.QtCore.QDate(2022, 8, 2)</th>\n      <td>1</td>\n      <td>0</td>\n      <td>1</td>\n    </tr>\n    <tr>\n      <th>PyQt5.QtCore.QDate(2022, 8, 3)</th>\n      <td>0</td>\n      <td>1</td>\n      <td>1</td>\n    </tr>\n    <tr>\n      <th>PyQt5.QtCore.QDate(2022, 8, 4)</th>\n      <td>1</td>\n      <td>0</td>\n      <td>1</td>\n    </tr>\n    <tr>\n      <th>PyQt5.QtCore.QDate(2022, 8, 5)</th>\n      <td>0</td>\n      <td>1</td>\n      <td>1</td>\n    </tr>\n    <tr>\n      <th>PyQt5.QtCore.QDate(2022, 8, 6)</th>\n      <td>1</td>\n      <td>0</td>\n      <td>1</td>\n    </tr>\n    <tr>\n      <th>PyQt5.QtCore.QDate(2022, 8, 7)</th>\n      <td>0</td>\n      <td>2</td>\n      <td>0</td>\n    </tr>\n    <tr>\n      <th>PyQt5.QtCore.QDate(2022, 8, 8)</th>\n      <td>1</td>\n      <td>0</td>\n      <td>1</td>\n    </tr>\n    <tr>\n      <th>PyQt5.QtCore.QDate(2022, 8, 9)</th>\n      <td>0</td>\n      <td>1</td>\n      <td>1</td>\n    </tr>\n    <tr>\n      <th>PyQt5.QtCore.QDate(2022, 8, 10)</th>\n      <td>1</td>\n      <td>0</td>\n      <td>1</td>\n    </tr>\n    <tr>\n      <th>PyQt5.QtCore.QDate(2022, 8, 11)</th>\n      <td>0</td>\n      <td>1</td>\n      <td>1</td>\n    </tr>\n    <tr>\n      <th>PyQt5.QtCore.QDate(2022, 8, 12)</th>\n      <td>1</td>\n      <td>0</td>\n      <td>1</td>\n    </tr>\n    <tr>\n      <th>PyQt5.QtCore.QDate(2022, 8, 13)</th>\n      <td>1</td>\n      <td>1</td>\n      <td>0</td>\n    </tr>\n    <tr>\n      <th>PyQt5.QtCore.QDate(2022, 8, 14)</th>\n      <td>1</td>\n      <td>1</td>\n      <td>0</td>\n    </tr>\n    <tr>\n      <th>PyQt5.QtCore.QDate(2022, 8, 15)</th>\n      <td>0</td>\n      <td>1</td>\n      <td>1</td>\n    </tr>\n    <tr>\n      <th>PyQt5.QtCore.QDate(2022, 8, 16)</th>\n      <td>1</td>\n      <td>1</td>\n      <td>0</td>\n    </tr>\n    <tr>\n      <th>PyQt5.QtCore.QDate(2022, 8, 17)</th>\n      <td>0</td>\n      <td>1</td>\n      <td>1</td>\n    </tr>\n    <tr>\n      <th>PyQt5.QtCore.QDate(2022, 8, 18)</th>\n      <td>1</td>\n      <td>1</td>\n      <td>0</td>\n    </tr>\n    <tr>\n      <th>PyQt5.QtCore.QDate(2022, 8, 19)</th>\n      <td>0</td>\n      <td>1</td>\n      <td>1</td>\n    </tr>\n    <tr>\n      <th>PyQt5.QtCore.QDate(2022, 8, 20)</th>\n      <td>1</td>\n      <td>1</td>\n      <td>0</td>\n    </tr>\n    <tr>\n      <th>PyQt5.QtCore.QDate(2022, 8, 21)</th>\n      <td>1</td>\n      <td>1</td>\n      <td>0</td>\n    </tr>\n    <tr>\n      <th>PyQt5.QtCore.QDate(2022, 8, 22)</th>\n      <td>1</td>\n      <td>0</td>\n      <td>1</td>\n    </tr>\n  </tbody>\n</table>\n</div>"
     },
     "execution_count": 10,
     "metadata": {},
     "output_type": "execute_result"
    }
   ],
   "source": [
    "pd.pivot_table(current_schedule, index=['Days'], columns=['Shift'], values='Doc', aggfunc=lambda x:here(x, ['doc1', 'doc3']), fill_value=0)"
   ],
   "metadata": {
    "collapsed": false,
    "pycharm": {
     "name": "#%%\n"
    }
   }
  },
  {
   "cell_type": "code",
   "execution_count": 11,
   "outputs": [],
   "source": [
    "piv_kwargs = {'index': ['Days'], 'columns': ['Doc'], 'values':'Shift','aggfunc': lambda x:','.join(x),\n",
    "                           'fill_value': 0}"
   ],
   "metadata": {
    "collapsed": false,
    "pycharm": {
     "name": "#%%\n"
    }
   }
  },
  {
   "cell_type": "code",
   "execution_count": 12,
   "outputs": [
    {
     "data": {
      "text/plain": "Doc                                doc1    doc2    doc3\nDays                                                   \nPyQt5.QtCore.QDate(2022, 7, 24)     Off    Call     Off\nPyQt5.QtCore.QDate(2022, 7, 25)  Walkin     Off    Call\nPyQt5.QtCore.QDate(2022, 7, 26)     Off    Call  Walkin\nPyQt5.QtCore.QDate(2022, 7, 27)  Walkin     Off    Call\nPyQt5.QtCore.QDate(2022, 7, 28)    Call  Walkin     Off\nPyQt5.QtCore.QDate(2022, 7, 29)  Walkin     Off    Call\nPyQt5.QtCore.QDate(2022, 7, 30)     Off    Call     Off\nPyQt5.QtCore.QDate(2022, 7, 31)  Walkin     Off    Call\nPyQt5.QtCore.QDate(2022, 8, 1)     Call  Walkin     Off\nPyQt5.QtCore.QDate(2022, 8, 2)   Walkin     Off    Call\nPyQt5.QtCore.QDate(2022, 8, 3)      Off    Call  Walkin\nPyQt5.QtCore.QDate(2022, 8, 4)   Walkin     Off    Call\nPyQt5.QtCore.QDate(2022, 8, 5)      Off    Call  Walkin\nPyQt5.QtCore.QDate(2022, 8, 6)   Walkin     Off    Call\nPyQt5.QtCore.QDate(2022, 8, 7)      Off    Call     Off\nPyQt5.QtCore.QDate(2022, 8, 8)   Walkin     Off    Call\nPyQt5.QtCore.QDate(2022, 8, 9)      Off    Call  Walkin\nPyQt5.QtCore.QDate(2022, 8, 10)  Walkin     Off    Call\nPyQt5.QtCore.QDate(2022, 8, 11)     Off    Call  Walkin\nPyQt5.QtCore.QDate(2022, 8, 12)  Walkin     Off    Call\nPyQt5.QtCore.QDate(2022, 8, 13)    Call  Walkin     Off\nPyQt5.QtCore.QDate(2022, 8, 14)     Off     Off    Call\nPyQt5.QtCore.QDate(2022, 8, 15)  Walkin    Call     Off\nPyQt5.QtCore.QDate(2022, 8, 16)     Off  Walkin    Call\nPyQt5.QtCore.QDate(2022, 8, 17)  Walkin    Call     Off\nPyQt5.QtCore.QDate(2022, 8, 18)     Off  Walkin    Call\nPyQt5.QtCore.QDate(2022, 8, 19)  Walkin    Call     Off\nPyQt5.QtCore.QDate(2022, 8, 20)     Off     Off    Call\nPyQt5.QtCore.QDate(2022, 8, 21)    Call  Walkin     Off\nPyQt5.QtCore.QDate(2022, 8, 22)  Walkin     Off    Call",
      "text/html": "<div>\n<style scoped>\n    .dataframe tbody tr th:only-of-type {\n        vertical-align: middle;\n    }\n\n    .dataframe tbody tr th {\n        vertical-align: top;\n    }\n\n    .dataframe thead th {\n        text-align: right;\n    }\n</style>\n<table border=\"1\" class=\"dataframe\">\n  <thead>\n    <tr style=\"text-align: right;\">\n      <th>Doc</th>\n      <th>doc1</th>\n      <th>doc2</th>\n      <th>doc3</th>\n    </tr>\n    <tr>\n      <th>Days</th>\n      <th></th>\n      <th></th>\n      <th></th>\n    </tr>\n  </thead>\n  <tbody>\n    <tr>\n      <th>PyQt5.QtCore.QDate(2022, 7, 24)</th>\n      <td>Off</td>\n      <td>Call</td>\n      <td>Off</td>\n    </tr>\n    <tr>\n      <th>PyQt5.QtCore.QDate(2022, 7, 25)</th>\n      <td>Walkin</td>\n      <td>Off</td>\n      <td>Call</td>\n    </tr>\n    <tr>\n      <th>PyQt5.QtCore.QDate(2022, 7, 26)</th>\n      <td>Off</td>\n      <td>Call</td>\n      <td>Walkin</td>\n    </tr>\n    <tr>\n      <th>PyQt5.QtCore.QDate(2022, 7, 27)</th>\n      <td>Walkin</td>\n      <td>Off</td>\n      <td>Call</td>\n    </tr>\n    <tr>\n      <th>PyQt5.QtCore.QDate(2022, 7, 28)</th>\n      <td>Call</td>\n      <td>Walkin</td>\n      <td>Off</td>\n    </tr>\n    <tr>\n      <th>PyQt5.QtCore.QDate(2022, 7, 29)</th>\n      <td>Walkin</td>\n      <td>Off</td>\n      <td>Call</td>\n    </tr>\n    <tr>\n      <th>PyQt5.QtCore.QDate(2022, 7, 30)</th>\n      <td>Off</td>\n      <td>Call</td>\n      <td>Off</td>\n    </tr>\n    <tr>\n      <th>PyQt5.QtCore.QDate(2022, 7, 31)</th>\n      <td>Walkin</td>\n      <td>Off</td>\n      <td>Call</td>\n    </tr>\n    <tr>\n      <th>PyQt5.QtCore.QDate(2022, 8, 1)</th>\n      <td>Call</td>\n      <td>Walkin</td>\n      <td>Off</td>\n    </tr>\n    <tr>\n      <th>PyQt5.QtCore.QDate(2022, 8, 2)</th>\n      <td>Walkin</td>\n      <td>Off</td>\n      <td>Call</td>\n    </tr>\n    <tr>\n      <th>PyQt5.QtCore.QDate(2022, 8, 3)</th>\n      <td>Off</td>\n      <td>Call</td>\n      <td>Walkin</td>\n    </tr>\n    <tr>\n      <th>PyQt5.QtCore.QDate(2022, 8, 4)</th>\n      <td>Walkin</td>\n      <td>Off</td>\n      <td>Call</td>\n    </tr>\n    <tr>\n      <th>PyQt5.QtCore.QDate(2022, 8, 5)</th>\n      <td>Off</td>\n      <td>Call</td>\n      <td>Walkin</td>\n    </tr>\n    <tr>\n      <th>PyQt5.QtCore.QDate(2022, 8, 6)</th>\n      <td>Walkin</td>\n      <td>Off</td>\n      <td>Call</td>\n    </tr>\n    <tr>\n      <th>PyQt5.QtCore.QDate(2022, 8, 7)</th>\n      <td>Off</td>\n      <td>Call</td>\n      <td>Off</td>\n    </tr>\n    <tr>\n      <th>PyQt5.QtCore.QDate(2022, 8, 8)</th>\n      <td>Walkin</td>\n      <td>Off</td>\n      <td>Call</td>\n    </tr>\n    <tr>\n      <th>PyQt5.QtCore.QDate(2022, 8, 9)</th>\n      <td>Off</td>\n      <td>Call</td>\n      <td>Walkin</td>\n    </tr>\n    <tr>\n      <th>PyQt5.QtCore.QDate(2022, 8, 10)</th>\n      <td>Walkin</td>\n      <td>Off</td>\n      <td>Call</td>\n    </tr>\n    <tr>\n      <th>PyQt5.QtCore.QDate(2022, 8, 11)</th>\n      <td>Off</td>\n      <td>Call</td>\n      <td>Walkin</td>\n    </tr>\n    <tr>\n      <th>PyQt5.QtCore.QDate(2022, 8, 12)</th>\n      <td>Walkin</td>\n      <td>Off</td>\n      <td>Call</td>\n    </tr>\n    <tr>\n      <th>PyQt5.QtCore.QDate(2022, 8, 13)</th>\n      <td>Call</td>\n      <td>Walkin</td>\n      <td>Off</td>\n    </tr>\n    <tr>\n      <th>PyQt5.QtCore.QDate(2022, 8, 14)</th>\n      <td>Off</td>\n      <td>Off</td>\n      <td>Call</td>\n    </tr>\n    <tr>\n      <th>PyQt5.QtCore.QDate(2022, 8, 15)</th>\n      <td>Walkin</td>\n      <td>Call</td>\n      <td>Off</td>\n    </tr>\n    <tr>\n      <th>PyQt5.QtCore.QDate(2022, 8, 16)</th>\n      <td>Off</td>\n      <td>Walkin</td>\n      <td>Call</td>\n    </tr>\n    <tr>\n      <th>PyQt5.QtCore.QDate(2022, 8, 17)</th>\n      <td>Walkin</td>\n      <td>Call</td>\n      <td>Off</td>\n    </tr>\n    <tr>\n      <th>PyQt5.QtCore.QDate(2022, 8, 18)</th>\n      <td>Off</td>\n      <td>Walkin</td>\n      <td>Call</td>\n    </tr>\n    <tr>\n      <th>PyQt5.QtCore.QDate(2022, 8, 19)</th>\n      <td>Walkin</td>\n      <td>Call</td>\n      <td>Off</td>\n    </tr>\n    <tr>\n      <th>PyQt5.QtCore.QDate(2022, 8, 20)</th>\n      <td>Off</td>\n      <td>Off</td>\n      <td>Call</td>\n    </tr>\n    <tr>\n      <th>PyQt5.QtCore.QDate(2022, 8, 21)</th>\n      <td>Call</td>\n      <td>Walkin</td>\n      <td>Off</td>\n    </tr>\n    <tr>\n      <th>PyQt5.QtCore.QDate(2022, 8, 22)</th>\n      <td>Walkin</td>\n      <td>Off</td>\n      <td>Call</td>\n    </tr>\n  </tbody>\n</table>\n</div>"
     },
     "execution_count": 12,
     "metadata": {},
     "output_type": "execute_result"
    }
   ],
   "source": [
    "pd.pivot_table(current_schedule, **piv_kwargs)"
   ],
   "metadata": {
    "collapsed": false,
    "pycharm": {
     "name": "#%%\n"
    }
   }
  },
  {
   "cell_type": "code",
   "execution_count": 13,
   "outputs": [
    {
     "data": {
      "text/plain": "class      First    Second     Third\nsex                                 \nfemale  0.968085  0.921053  0.500000\nmale    0.368852  0.157407  0.135447",
      "text/html": "<div>\n<style scoped>\n    .dataframe tbody tr th:only-of-type {\n        vertical-align: middle;\n    }\n\n    .dataframe tbody tr th {\n        vertical-align: top;\n    }\n\n    .dataframe thead th {\n        text-align: right;\n    }\n</style>\n<table border=\"1\" class=\"dataframe\">\n  <thead>\n    <tr style=\"text-align: right;\">\n      <th>class</th>\n      <th>First</th>\n      <th>Second</th>\n      <th>Third</th>\n    </tr>\n    <tr>\n      <th>sex</th>\n      <th></th>\n      <th></th>\n      <th></th>\n    </tr>\n  </thead>\n  <tbody>\n    <tr>\n      <th>female</th>\n      <td>0.968085</td>\n      <td>0.921053</td>\n      <td>0.500000</td>\n    </tr>\n    <tr>\n      <th>male</th>\n      <td>0.368852</td>\n      <td>0.157407</td>\n      <td>0.135447</td>\n    </tr>\n  </tbody>\n</table>\n</div>"
     },
     "execution_count": 13,
     "metadata": {},
     "output_type": "execute_result"
    }
   ],
   "source": [
    "titanic.pivot_table('survived', index=['sex'], columns='class')"
   ],
   "metadata": {
    "collapsed": false,
    "pycharm": {
     "name": "#%%\n"
    }
   }
  }
 ],
 "metadata": {
  "kernelspec": {
   "display_name": "Python 3",
   "language": "python",
   "name": "python3"
  },
  "language_info": {
   "codemirror_mode": {
    "name": "ipython",
    "version": 2
   },
   "file_extension": ".py",
   "mimetype": "text/x-python",
   "name": "python",
   "nbconvert_exporter": "python",
   "pygments_lexer": "ipython2",
   "version": "2.7.6"
  }
 },
 "nbformat": 4,
 "nbformat_minor": 0
}